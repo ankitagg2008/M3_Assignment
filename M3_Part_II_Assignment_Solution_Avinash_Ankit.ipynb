{
  "nbformat": 4,
  "nbformat_minor": 0,
  "metadata": {
    "colab": {
      "provenance": []
    },
    "kernelspec": {
      "name": "python3",
      "display_name": "Python 3"
    },
    "language_info": {
      "name": "python"
    }
  },
  "cells": [
    {
      "cell_type": "markdown",
      "source": [
        "# I. Rule-based and Statistical Approaches for Part-of-Speech Tagging\n",
        "\n",
        "Part-of-Speech tagging, also known as POS tagging, is the process of assigning grammatical tags or labels to words in a sentence. The tags represent the syntactic category or part of speech of each word, such as noun, verb, adjective, adverb, etc. POS tagging is an essential step in many Natural Language Processing (NLP) tasks, including parsing, machine translation, and information retrieval.\n",
        "\n",
        "POS tagging can be approached using different techniques, including rule-based approaches, statistical approaches, and hybrid approaches that combine both. In statistical approaches, Hidden Markov Models (HMMs) and Maximum Entropy Markov Models (MEMMs) are commonly used.\n",
        "\n",
        "Implement a rule-based part-of-speech (POS) tagger:\n",
        "* a. Write a set of rules to assign POS tags to words based on their context\n",
        "* b. Apply the rules to a sample text and evaluate the accuracy of the tagger.\n",
        "\n",
        "\n",
        "\n",
        "Implement a statistical POS tagger using a pre-trained model:\n",
        "\n",
        "\n",
        "* a. Train a statistical POS tagger on a labeled corpus using a machine learning algorithm such as Naive Bayes or Maximum Entropy.\n",
        "* b. Apply the trained model to tag a sample text and evaluate its accuracy.\n",
        "\n",
        "\n",
        "\n"
      ],
      "metadata": {
        "id": "4Q05trEvPpQw"
      }
    },
    {
      "cell_type": "code",
      "source": [
        "import nltk\n",
        "import re\n",
        "nltk.download('punkt')\n",
        "nltk.download('treebank')\n",
        "nltk.download('averaged_perceptron_tagger')\n",
        "nltk.download('maxent_ne_chunker') #The maxent_ne_chunker contains two pre-trained English named entity chunkers trained on an ACE corpus (perhaps ACE ACE 2004 Multilingual Training Corpus?)"
      ],
      "metadata": {
        "id": "lJ2RhiyPSCv6",
        "colab": {
          "base_uri": "https://localhost:8080/"
        },
        "outputId": "ab06c4cc-1493-4547-dd8e-1a8fa9c3e4da"
      },
      "execution_count": null,
      "outputs": [
        {
          "output_type": "stream",
          "name": "stderr",
          "text": [
            "[nltk_data] Downloading package punkt to /root/nltk_data...\n",
            "[nltk_data]   Unzipping tokenizers/punkt.zip.\n",
            "[nltk_data] Downloading package treebank to /root/nltk_data...\n",
            "[nltk_data]   Unzipping corpora/treebank.zip.\n",
            "[nltk_data] Downloading package averaged_perceptron_tagger to\n",
            "[nltk_data]     /root/nltk_data...\n",
            "[nltk_data]   Unzipping taggers/averaged_perceptron_tagger.zip.\n",
            "[nltk_data] Downloading package maxent_ne_chunker to\n",
            "[nltk_data]     /root/nltk_data...\n",
            "[nltk_data]   Unzipping chunkers/maxent_ne_chunker.zip.\n"
          ]
        },
        {
          "output_type": "execute_result",
          "data": {
            "text/plain": [
              "True"
            ]
          },
          "metadata": {},
          "execution_count": 1
        }
      ]
    },
    {
      "cell_type": "code",
      "execution_count": null,
      "metadata": {
        "id": "gXSDBSDaPY12"
      },
      "outputs": [],
      "source": [
        "from nltk import pos_tag, ne_chunk\n",
        "from nltk.tokenize import word_tokenize\n",
        "from nltk.corpus import treebank\n",
        "from nltk.tag import DefaultTagger, UnigramTagger, BigramTagger #important for POS tagging\n",
        "\n",
        "\n",
        "# Part 1: Rule-based and Statistical Approaches for Part-of-Speech Tagging\n",
        "\n",
        "# Rule-based POS Tagger\n",
        "def rule_based_pos_tagger(sentence):\n",
        "    # Define your rules here\n",
        "    rules = [\n",
        "          (re.compile(r'\\bThe\\b'), 'DT'),\n",
        "          (re.compile(r'\\bcat\\b'), 'NN'),\n",
        "          (re.compile(r'\\bis\\b'), 'VB'),\n",
        "          (re.compile(r'\\bsitting\\b'), 'VB'),\n",
        "          (re.compile(r'\\bon\\b'), 'IN'),\n",
        "          (re.compile(r'\\bthe\\b'), 'DT'),\n",
        "          (re.compile(r'\\bmat\\b'), 'NN'),\n",
        "      ]\n",
        "    tagged_sentence = []\n",
        "    words = word_tokenize(sentence)\n",
        "    for word in words:\n",
        "        for pattern, tag in rules:\n",
        "            if pattern.match(word):\n",
        "                tagged_sentence.append((word, tag))\n",
        "                break\n",
        "        else:\n",
        "            tagged_sentence.append((word, 'UNKNOWN'))\n",
        "    return tagged_sentence\n",
        "\n",
        "# Statistical POS Tagger\n",
        "def statistical_pos_tagger(sentence):\n",
        "    # Train your model on a labeled corpus (e.g., treebank)\n",
        "    train_data = treebank.tagged_sents()[:3000]\n",
        "    # Train your statistical model here\n",
        "\n",
        "    # Split data into training and testing sets\n",
        "    train_size = int(len(train_data) * 0.8)\n",
        "    train_set = train_data[:train_size]\n",
        "    test_set = train_data[train_size:]\n",
        "\n",
        "    # Create taggers\n",
        "    default_tagger = DefaultTagger('NN')  # Default tagger assigns 'NN' to all words\n",
        "    unigram_tagger = UnigramTagger(train_set, backoff=default_tagger)  # Unigram tagger using training set\n",
        "    bigram_tagger = BigramTagger(train_set, backoff=unigram_tagger)  # Bigram tagger using training set and fallback to unigram tagger\n",
        "\n",
        "    # Evaluate on test set\n",
        "    accuracy = bigram_tagger.accuracy(test_set)\n",
        "    print(\"Accuracy:\", accuracy)\n",
        "\n",
        "\n",
        "    # Apply the trained model to tag the sentence\n",
        "    tagged_sentence  = bigram_tagger.tag(word_tokenize(sentence))\n",
        "    #tagged_sentence = nltk.pos_tag(words)\n",
        "    #tagged_sentence.append(tagged_sentence)\n",
        "    return tagged_sentence"
      ]
    },
    {
      "cell_type": "code",
      "source": [
        "# Part 1: Rule-based and Statistical Approaches for Part-of-Speech Tagging\n",
        "sample_sentence = \"The cat is sitting on the mat.\"\n",
        "\n",
        "# Rule-based POS Tagging\n",
        "rule_based_tags = rule_based_pos_tagger(sample_sentence)\n",
        "print(\"Rule-based POS Tags:\")\n",
        "print(rule_based_tags)\n",
        "\n",
        "# Statistical POS Tagging\n",
        "statistical_tags = statistical_pos_tagger(sample_sentence)\n",
        "print(\"Statistical POS Tags:\")\n",
        "print(statistical_tags)\n"
      ],
      "metadata": {
        "id": "exUD_vjjR6T7",
        "colab": {
          "base_uri": "https://localhost:8080/"
        },
        "outputId": "719f6fcd-9cfa-46dd-b2d3-af7167aa8d2f"
      },
      "execution_count": null,
      "outputs": [
        {
          "output_type": "stream",
          "name": "stdout",
          "text": [
            "Rule-based POS Tags:\n",
            "[('The', 'DT'), ('cat', 'NN'), ('is', 'VB'), ('sitting', 'VB'), ('on', 'IN'), ('the', 'DT'), ('mat', 'NN'), ('.', 'UNKNOWN')]\n",
            "Accuracy: 0.8748033560566335\n",
            "Statistical POS Tags:\n",
            "[('The', 'DT'), ('cat', 'NN'), ('is', 'VBZ'), ('sitting', 'VBG'), ('on', 'IN'), ('the', 'DT'), ('mat', 'NN'), ('.', '.')]\n"
          ]
        }
      ]
    },
    {
      "cell_type": "markdown",
      "source": [
        "Additionally, NLTK has a built in function call ```pos_tags``\n",
        "See example below"
      ],
      "metadata": {
        "id": "zoASyaNWdgYW"
      }
    },
    {
      "cell_type": "code",
      "source": [
        "sample_sentence = \"The cat is sitting on the mat.\"\n",
        "\n",
        "tagged_sentence = nltk.pos_tag(word_tokenize(sample_sentence))\n",
        "print(tagged_sentence)"
      ],
      "metadata": {
        "id": "AYSqHPf4dpMS",
        "colab": {
          "base_uri": "https://localhost:8080/"
        },
        "outputId": "d1ac6ce0-3ab5-4d03-e8c5-225a98c2759f"
      },
      "execution_count": null,
      "outputs": [
        {
          "output_type": "stream",
          "name": "stdout",
          "text": [
            "[('The', 'DT'), ('cat', 'NN'), ('is', 'VBZ'), ('sitting', 'VBG'), ('on', 'IN'), ('the', 'DT'), ('mat', 'NN'), ('.', '.')]\n"
          ]
        }
      ]
    },
    {
      "cell_type": "markdown",
      "source": [
        " ### Exercise\n",
        "\n",
        "Update the Rule-based tagger with patterns using regex. An example could be:\n",
        "\n",
        "\n",
        "\n",
        "      ```  (r'\\b\\w+s\\b|\\b\\w+es\\b', 'NN'),     # Nouns ending ```\n",
        "\n",
        "  From here proivde an updated rule-based tagger and statistical based tagger that can apply a part of speech tag for the following complex sentence:\n",
        "\n",
        "  ```\n",
        "  sentence = \"The quick brown fox jumps over the lazy dog while it's raining heavily.\"\n",
        "\n",
        "  ```"
      ],
      "metadata": {
        "id": "S9jgjuE4euOi"
      }
    },
    {
      "cell_type": "code",
      "source": [
        "##### START CODE ####\n",
        "\n",
        "\"\"\" Enter code here\"\"\"\n",
        "from nltk.tag import RegexpTagger # use REGEX rules to guess the tag\n",
        "from nltk.tag import TrigramTagger # To improve the accuracy of statistical POS tagger\n",
        "\n",
        "# Rule-based Part-of-Speech tagger function\n",
        "def rule_based_pos_tagger():\n",
        "\n",
        "    # POS tagging rules with regex\n",
        "    pos_rules = [\n",
        "        (r'.*ing$', 'VBG'),  # Gerunds\n",
        "        (r'.*ed$', 'VBD'),\n",
        "        (r'.*es$', 'VBZ'),\n",
        "        (r'.*ould$', 'MD'),  # Modals\n",
        "        (r'.*\\'s$', 'VBZ$'),  # Possessive nouns\n",
        "        (r'.*s$', 'NNS'),  # Plural nouns\n",
        "        (r'^-?[0-9]+(\\.[0-9]+)?$', 'CD'),  # Cardinal numbers\n",
        "        (r'\\b(the|a|an)\\b', 'DT'),  # Determiners\n",
        "        (r'\\b(in|on|at|over|under|since|for|ago|before|to|till|until|by|beside|behind|during|throughout|with|without)\\b', 'IN'),  # Prepositions\n",
        "        (r'\\b(and|or|but)\\b', 'CC'),  # conjunctions\n",
        "        (r'\\b(quick|lazy|brown|red|blue|green)\\b', 'JJ'),  # Adjectives\n",
        "        (r'\\b(heavily|quickly|slowly|carefully|well)\\b', 'RB'),  # Adverbs\n",
        "        (r'\\.', '.'),  # punctuation\n",
        "        (r'[,:;]$', ','),  # punctuations\n",
        "        (r'\\$', '$'),  # Symbol\n",
        "        (r'.*', 'NN')  # Nouns\n",
        "    ]\n",
        "\n",
        "    # tagged_words = []\n",
        "\n",
        "    # # Tokenize input sentence\n",
        "    # tokenized_sentence = word_tokenize(input_sentence)\n",
        "\n",
        "    regexp_tagger = RegexpTagger(pos_rules)\n",
        "\n",
        "    # Assign POS tags to the tokenized sentence\n",
        "    # tagged_words = regexp_tagger.tag(tokenized_sentence)\n",
        "\n",
        "    # return tagged_words\n",
        "    return regexp_tagger\n",
        "\n",
        "# Statistical Part-of-Speech tagger function\n",
        "def statistical_pos_tagger(input_sentence):\n",
        "\n",
        "    # Using the 'treebank' corpus as labeled data for training the model\n",
        "    labeled_data = treebank.tagged_sents()[:3000]\n",
        "\n",
        "    # Split the labeled data into training and testing sets\n",
        "    split_point = int(len(labeled_data) * 0.8)\n",
        "\n",
        "    training_data = labeled_data[:split_point]\n",
        "\n",
        "    testing_data = labeled_data[split_point:]\n",
        "\n",
        "    # Use the rule-based tagger as a backoff\n",
        "    backoff = rule_based_pos_tagger()\n",
        "\n",
        "    unigram_tagger = UnigramTagger(training_data, backoff=backoff)\n",
        "\n",
        "    bigram_tagger = BigramTagger(training_data, backoff=unigram_tagger)\n",
        "\n",
        "    trigram_tagger = TrigramTagger(training_data, backoff=bigram_tagger)   # Can be used to improve accuracy of POS tagging, although in this case it\n",
        "\n",
        "    # Evaluate the accuracy of the trigram tagger on the testing data\n",
        "    model_accuracy = trigram_tagger.evaluate(testing_data)\n",
        "\n",
        "    print(\"Model Accuracy:\", model_accuracy)\n",
        "\n",
        "    # Tokenize the input sentence\n",
        "    tokenized_sentence = word_tokenize(input_sentence)\n",
        "\n",
        "    # Use the trigram tagger to assign POS tags to the tokenized sentence\n",
        "    tagged_words = trigram_tagger.tag(tokenized_sentence)\n",
        "\n",
        "    return tagged_words\n",
        "\n",
        "#### END CODE ####\n"
      ],
      "metadata": {
        "id": "zsFIKF3QetPp"
      },
      "execution_count": null,
      "outputs": []
    },
    {
      "cell_type": "code",
      "source": [
        "#show printed output below\n",
        "sentence = \"The quick brown fox jumps over the lazy dog while it's raining heavily.\"\n",
        "\"\"\"your POS tagging function\"\"\"\n",
        "\n",
        "# Rule-based POS Tagging\n",
        "rule_based_tags = rule_based_pos_tagger().tag(word_tokenize(sentence))\n",
        "print(\"Rule-based POS Tags:\")\n",
        "print(rule_based_tags)\n",
        "\n",
        "# Statistical POS Tagging\n",
        "statistical_tags = statistical_pos_tagger(sentence)\n",
        "print(\"\\nStatistical POS Tags:\")\n",
        "print(statistical_tags)"
      ],
      "metadata": {
        "id": "v3qmcVF6hxrR",
        "colab": {
          "base_uri": "https://localhost:8080/"
        },
        "outputId": "be3f0e5e-17d1-4aad-dd4b-34298c7f303d"
      },
      "execution_count": null,
      "outputs": [
        {
          "output_type": "stream",
          "name": "stdout",
          "text": [
            "Rule-based POS Tags:\n",
            "[('The', 'NN'), ('quick', 'JJ'), ('brown', 'JJ'), ('fox', 'NN'), ('jumps', 'NNS'), ('over', 'IN'), ('the', 'DT'), ('lazy', 'JJ'), ('dog', 'NN'), ('while', 'NN'), ('it', 'NN'), (\"'s\", 'VBZ$'), ('raining', 'VBG'), ('heavily', 'RB'), ('.', '.')]\n"
          ]
        },
        {
          "output_type": "stream",
          "name": "stderr",
          "text": [
            "<ipython-input-23-a5161b6c6f3a>:66: DeprecationWarning: \n",
            "  Function evaluate() has been deprecated.  Use accuracy(gold)\n",
            "  instead.\n",
            "  model_accuracy = trigram_tagger.evaluate(testing_data)\n"
          ]
        },
        {
          "output_type": "stream",
          "name": "stdout",
          "text": [
            "Model Accuracy: 0.8990561090718406\n",
            "\n",
            "Statistical POS Tags:\n",
            "[('The', 'DT'), ('quick', 'JJ'), ('brown', 'JJ'), ('fox', 'NN'), ('jumps', 'NNS'), ('over', 'IN'), ('the', 'DT'), ('lazy', 'JJ'), ('dog', 'NN'), ('while', 'IN'), ('it', 'PRP'), (\"'s\", 'VBZ'), ('raining', 'VBG'), ('heavily', 'RB'), ('.', '.')]\n"
          ]
        }
      ]
    },
    {
      "cell_type": "markdown",
      "source": [
        "## Inference:\n",
        "\n",
        "The statistical (trigram) tagger performs better than the rule-based tagger for this specific sentence. However, both taggers can be improved by defining more rules and gathering more training data for statistical tagger"
      ],
      "metadata": {
        "id": "QfAF6MQ2Do3x"
      }
    }
  ]
}